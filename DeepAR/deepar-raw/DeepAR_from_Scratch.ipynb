{
 "cells": [
  {
   "cell_type": "markdown",
   "metadata": {},
   "source": [
    "### Generate random initialised sequence from which synthetic data will be generated"
   ]
  },
  {
   "cell_type": "code",
   "execution_count": 2,
   "metadata": {
    "colab": {
     "base_uri": "https://localhost:8080/"
    },
    "id": "GhYx5cI7r18k",
    "outputId": "79c3e867-2406-416d-977b-30e383fa920e"
   },
   "outputs": [
    {
     "name": "stdout",
     "output_type": "stream",
     "text": [
      "Requirement already satisfied: gluonts in c:\\users\\resh\\anaconda3\\lib\\site-packages (0.9.3)\n",
      "Requirement already satisfied: tqdm~=4.23 in c:\\users\\resh\\anaconda3\\lib\\site-packages (from gluonts) (4.62.3)\n",
      "Requirement already satisfied: holidays>=0.9 in c:\\users\\resh\\anaconda3\\lib\\site-packages (from gluonts) (0.13)\n",
      "Requirement already satisfied: numpy~=1.16 in c:\\users\\resh\\anaconda3\\lib\\site-packages (from gluonts) (1.20.3)\n",
      "Requirement already satisfied: pandas~=1.0 in c:\\users\\resh\\anaconda3\\lib\\site-packages (from gluonts) (1.2.5)\n",
      "Requirement already satisfied: toolz~=0.10 in c:\\users\\resh\\anaconda3\\lib\\site-packages (from gluonts) (0.11.1)\n",
      "Requirement already satisfied: typing-extensions~=4.0 in c:\\users\\resh\\anaconda3\\lib\\site-packages (from gluonts) (4.1.1)\n",
      "Requirement already satisfied: matplotlib~=3.0 in c:\\users\\resh\\anaconda3\\lib\\site-packages (from gluonts) (3.4.3)\n",
      "Requirement already satisfied: pydantic~=1.1 in c:\\users\\resh\\anaconda3\\lib\\site-packages (from gluonts) (1.9.0)\n",
      "Requirement already satisfied: hijri-converter in c:\\users\\resh\\anaconda3\\lib\\site-packages (from holidays>=0.9->gluonts) (2.2.3)\n",
      "Requirement already satisfied: convertdate>=2.3.0 in c:\\users\\resh\\anaconda3\\lib\\site-packages (from holidays>=0.9->gluonts) (2.4.0)\n",
      "Requirement already satisfied: python-dateutil in c:\\users\\resh\\anaconda3\\lib\\site-packages (from holidays>=0.9->gluonts) (2.8.2)\n",
      "Requirement already satisfied: korean-lunar-calendar in c:\\users\\resh\\anaconda3\\lib\\site-packages (from holidays>=0.9->gluonts) (0.2.1)\n",
      "Requirement already satisfied: pymeeus<=1,>=0.3.13 in c:\\users\\resh\\anaconda3\\lib\\site-packages (from convertdate>=2.3.0->holidays>=0.9->gluonts) (0.5.11)\n",
      "Requirement already satisfied: pillow>=6.2.0 in c:\\users\\resh\\anaconda3\\lib\\site-packages (from matplotlib~=3.0->gluonts) (8.4.0)\n",
      "Requirement already satisfied: pyparsing>=2.2.1 in c:\\users\\resh\\anaconda3\\lib\\site-packages (from matplotlib~=3.0->gluonts) (3.0.4)\n",
      "Requirement already satisfied: cycler>=0.10 in c:\\users\\resh\\anaconda3\\lib\\site-packages (from matplotlib~=3.0->gluonts) (0.10.0)\n",
      "Requirement already satisfied: kiwisolver>=1.0.1 in c:\\users\\resh\\anaconda3\\lib\\site-packages (from matplotlib~=3.0->gluonts) (1.3.1)\n",
      "Requirement already satisfied: six in c:\\users\\resh\\anaconda3\\lib\\site-packages (from cycler>=0.10->matplotlib~=3.0->gluonts) (1.16.0)\n",
      "Requirement already satisfied: pytz>=2017.3 in c:\\users\\resh\\anaconda3\\lib\\site-packages (from pandas~=1.0->gluonts) (2021.3)\n",
      "Requirement already satisfied: colorama in c:\\users\\resh\\anaconda3\\lib\\site-packages (from tqdm~=4.23->gluonts) (0.4.4)\n"
     ]
    },
    {
     "name": "stderr",
     "output_type": "stream",
     "text": [
      "ERROR: Could not find a version that satisfies the requirement gluonts.trainer (from versions: none)\n",
      "ERROR: No matching distribution found for gluonts.trainer\n"
     ]
    }
   ],
   "source": [
    "!pip install gluonts\n",
    "!pip install gluonts.trainer"
   ]
  },
  {
   "cell_type": "code",
   "execution_count": 3,
   "metadata": {
    "colab": {
     "base_uri": "https://localhost:8080/"
    },
    "id": "UtKalX8_qKZj",
    "outputId": "8165616d-c5ed-4e3b-808a-94b00ea578ad"
   },
   "outputs": [
    {
     "name": "stdout",
     "output_type": "stream",
     "text": [
      "{\n",
      "\t myOutput1 :  [ 1.76405235  0.40015721  0.97873798  2.2408932   1.86755799 -0.97727788\n",
      "  0.95008842 -0.15135721 -0.10321885  0.4105985   0.14404357  1.45427351\n",
      "  0.76103773  0.12167502  0.44386323  0.33367433  1.49407907 -0.20515826\n",
      "  0.3130677  -0.85409574 -2.55298982  0.6536186   0.8644362  -0.74216502\n",
      "  2.26975462 -1.45436567  0.04575852 -0.18718385  1.53277921  1.46935877\n",
      "  0.15494743  0.37816252 -0.88778575 -1.98079647 -0.34791215  0.15634897\n",
      "  1.23029068  1.20237985 -0.38732682 -0.30230275 -1.04855297 -1.42001794\n",
      " -1.70627019  1.9507754  -0.50965218 -0.4380743  -1.25279536  0.77749036\n",
      " -1.61389785 -0.21274028 -0.89546656  0.3869025  -0.51080514 -1.18063218\n",
      " -0.02818223  0.42833187  0.06651722  0.3024719  -0.63432209 -0.36274117\n",
      " -0.67246045 -0.35955316 -0.81314628 -1.7262826   0.17742614 -0.40178094\n",
      " -1.63019835  0.46278226 -0.90729836  0.0519454   0.72909056  0.12898291\n",
      "  1.13940068 -1.23482582  0.40234164 -0.68481009 -0.87079715 -0.57884966\n",
      " -0.31155253  0.05616534 -1.16514984  0.90082649  0.46566244 -1.53624369\n",
      "  1.48825219  1.89588918  1.17877957 -0.17992484 -1.07075262  1.05445173\n",
      " -0.40317695  1.22244507  0.20827498  0.97663904  0.3563664   0.70657317\n",
      "  0.01050002  1.78587049  0.12691209  0.40198936]\n",
      "}\n",
      "\n"
     ]
    }
   ],
   "source": [
    "from gluonts.dataset.artificial import recipe as rcp\n",
    "recipe = dict(\n",
    "    myOutput1=rcp.RandomGaussian()\n",
    ")\n",
    "def print_dicts(*dicts):\n",
    "    for d in dicts:\n",
    "        print(\"{\")\n",
    "        for k,v in d.items():\n",
    "            print(\"\\t\", k, \": \", v)\n",
    "        print(\"}\\n\")\n",
    "\n",
    "# multiple evaluations lead to different results, due to randomness\n",
    "print_dicts(rcp.evaluate(recipe, length=100))"
   ]
  },
  {
   "cell_type": "markdown",
   "metadata": {},
   "source": [
    "### Training the deepAR model"
   ]
  },
  {
   "cell_type": "code",
   "execution_count": 4,
   "metadata": {
    "id": "OTqjAPrYtuX4"
   },
   "outputs": [
    {
     "data": {
      "text/plain": [
       "(1827, 1)"
      ]
     },
     "execution_count": 4,
     "metadata": {},
     "output_type": "execute_result"
    }
   ],
   "source": [
    "import pandas as pd\n",
    "import numpy as np \n",
    "\n",
    "from time_series.dataset.time_series import TrainingDataSet\n",
    "from time_series.utils import evaluate_model\n",
    "\n",
    "from tensorflow.python.framework.ops import disable_eager_execution\n",
    "import tensorflow as tf\n",
    "disable_eager_execution()  \n",
    "tf.compat.v1.experimental.output_all_intermediates(True)\n",
    "\n",
    "from time_series.models.deepar import DeepAR\n",
    "\n",
    "np.random.seed(0)\n",
    "url = 'wiki.csv'\n",
    "data_df = pd.read_csv(url, header=0,index_col =0)\n",
    "data_df.shape"
   ]
  },
  {
   "cell_type": "code",
   "execution_count": 5,
   "metadata": {},
   "outputs": [
    {
     "name": "stdout",
     "output_type": "stream",
     "text": [
      "Columns: Index(['value'], dtype='object')\n",
      "Number of Columns: 1\n",
      "Indexcolumn: DatetimeIndex(['2015-07-01', '2015-07-02', '2015-07-03', '2015-07-04',\n",
      "               '2015-07-05', '2015-07-06', '2015-07-07', '2015-07-08',\n",
      "               '2015-07-09', '2015-07-10',\n",
      "               ...\n",
      "               '2020-06-21', '2020-06-22', '2020-06-23', '2020-06-24',\n",
      "               '2020-06-25', '2020-06-26', '2020-06-27', '2020-06-28',\n",
      "               '2020-06-29', '2020-06-30'],\n",
      "              dtype='datetime64[ns]', name='date', length=1827, freq=None)\n"
     ]
    },
    {
     "data": {
      "text/html": [
       "<div>\n",
       "<style scoped>\n",
       "    .dataframe tbody tr th:only-of-type {\n",
       "        vertical-align: middle;\n",
       "    }\n",
       "\n",
       "    .dataframe tbody tr th {\n",
       "        vertical-align: top;\n",
       "    }\n",
       "\n",
       "    .dataframe thead th {\n",
       "        text-align: right;\n",
       "    }\n",
       "</style>\n",
       "<table border=\"1\" class=\"dataframe\">\n",
       "  <thead>\n",
       "    <tr style=\"text-align: right;\">\n",
       "      <th></th>\n",
       "      <th>value</th>\n",
       "    </tr>\n",
       "    <tr>\n",
       "      <th>date</th>\n",
       "      <th></th>\n",
       "    </tr>\n",
       "  </thead>\n",
       "  <tbody>\n",
       "    <tr>\n",
       "      <th>2015-07-01</th>\n",
       "      <td>162754846</td>\n",
       "    </tr>\n",
       "    <tr>\n",
       "      <th>2015-07-02</th>\n",
       "      <td>161763738</td>\n",
       "    </tr>\n",
       "    <tr>\n",
       "      <th>2015-07-03</th>\n",
       "      <td>152125660</td>\n",
       "    </tr>\n",
       "    <tr>\n",
       "      <th>2015-07-04</th>\n",
       "      <td>153035028</td>\n",
       "    </tr>\n",
       "    <tr>\n",
       "      <th>2015-07-05</th>\n",
       "      <td>164069312</td>\n",
       "    </tr>\n",
       "  </tbody>\n",
       "</table>\n",
       "</div>"
      ],
      "text/plain": [
       "                value\n",
       "date                 \n",
       "2015-07-01  162754846\n",
       "2015-07-02  161763738\n",
       "2015-07-03  152125660\n",
       "2015-07-04  153035028\n",
       "2015-07-05  164069312"
      ]
     },
     "execution_count": 5,
     "metadata": {},
     "output_type": "execute_result"
    }
   ],
   "source": [
    "#Printing details of the dataset\n",
    "print(\"Columns: {}\".format(data_df.columns))\n",
    "print(\"Number of Columns: {}\".format(len(data_df.columns)))\n",
    "\n",
    "data_df.index = pd.to_datetime(data_df.index)\n",
    "print(\"Indexcolumn: {}\".format(data_df.index))\n",
    "data_df.head()"
   ]
  },
  {
   "cell_type": "code",
   "execution_count": 10,
   "metadata": {},
   "outputs": [
    {
     "name": "stdout",
     "output_type": "stream",
     "text": [
      "X train shape: (1461, 10, 1)\n",
      "y train shape: (1461, 10, 1)\n",
      "X test shape: (356, 10, 1)\n"
     ]
    },
    {
     "data": {
      "text/plain": [
       "array([[1.74825592e+08],\n",
       "       [1.66658334e+08],\n",
       "       [1.52243729e+08],\n",
       "       [1.57919395e+08],\n",
       "       [1.66547485e+08],\n",
       "       [1.68053840e+08],\n",
       "       [1.76030520e+08],\n",
       "       [1.77984259e+08],\n",
       "       [1.74969377e+08],\n",
       "       [1.57631791e+08]])"
      ]
     },
     "execution_count": 10,
     "metadata": {},
     "output_type": "execute_result"
    }
   ],
   "source": [
    "tds = TrainingDataSet(data_df,lag =10)\n",
    "print(\"X train shape: {}\".format(tds.X_train.shape ))\n",
    "print(\"y train shape: {}\".format(tds.y_train.shape ))\n",
    "print(\"X test shape: {}\".format(tds.X_test.shape ))\n",
    "tds.y_train[0] #10 x 1 2D array"
   ]
  },
  {
   "cell_type": "code",
   "execution_count": 11,
   "metadata": {},
   "outputs": [
    {
     "name": "stdout",
     "output_type": "stream",
     "text": [
      "Model: \"model_2\"\n",
      "_________________________________________________________________\n",
      " Layer (type)                Output Shape              Param #   \n",
      "=================================================================\n",
      " input_2 (InputLayer)        [(None, 10, 1)]           0         \n",
      "                                                                 \n",
      " lstm_1 (LSTM)               (None, 10, 16)            1152      \n",
      "                                                                 \n",
      " dense_1 (Dense)             (None, 10, 4)             68        \n",
      "                                                                 \n",
      " main_output (GaussianLayer)  [(None, 10, 1),          10        \n",
      "                              (None, 10, 1)]                     \n",
      "                                                                 \n",
      "=================================================================\n",
      "Total params: 1,230\n",
      "Trainable params: 1,230\n",
      "Non-trainable params: 0\n",
      "_________________________________________________________________\n",
      "Train on 1461 samples\n",
      "Epoch 1/100\n",
      "1461/1461 [==============================] - 0s 307us/sample - loss: 78968272477211680.0000 - mean_absolute_percentage_error: 100.0000 - mae: 179290832.0000 - mse: 32303552839811072.0000\n",
      "Epoch 2/100\n",
      "1461/1461 [==============================] - 0s 96us/sample - loss: 50787606849178968.0000 - mean_absolute_percentage_error: 100.0000 - mae: 179290816.0000 - mse: 32303554987294720.0000\n",
      "Epoch 3/100\n",
      "1461/1461 [==============================] - 0s 94us/sample - loss: 36860378715152120.0000 - mean_absolute_percentage_error: 100.0000 - mae: 179290832.0000 - mse: 32303544249876480.0000\n",
      "Epoch 4/100\n",
      "1461/1461 [==============================] - 0s 96us/sample - loss: 29939013774010008.0000 - mean_absolute_percentage_error: 100.0000 - mae: 179290848.0000 - mse: 32303550692327424.0000\n",
      "Epoch 5/100\n",
      "1461/1461 [==============================] - 0s 93us/sample - loss: 25090886515963472.0000 - mean_absolute_percentage_error: 100.0000 - mae: 179290864.0000 - mse: 32303554987294720.0000\n",
      "Epoch 6/100\n",
      "1461/1461 [==============================] - 0s 95us/sample - loss: 17158500337817488.0000 - mean_absolute_percentage_error: 100.0000 - mae: 179290816.0000 - mse: 32303554987294720.0000\n",
      "Epoch 7/100\n",
      "1461/1461 [==============================] - 0s 90us/sample - loss: 8735344730642164.0000 - mean_absolute_percentage_error: 100.0000 - mae: 179290864.0000 - mse: 32303554987294720.0000\n",
      "Epoch 8/100\n",
      "1461/1461 [==============================] - 0s 94us/sample - loss: 5889443655399935.0000 - mean_absolute_percentage_error: 100.0000 - mae: 179290816.0000 - mse: 32303552839811072.0000\n",
      "Epoch 9/100\n",
      "1461/1461 [==============================] - 0s 100us/sample - loss: 4470143119559187.5000 - mean_absolute_percentage_error: 100.0000 - mae: 179290816.0000 - mse: 32303554987294720.0000\n",
      "Epoch 10/100\n",
      "1461/1461 [==============================] - 0s 97us/sample - loss: 3618928321452246.5000 - mean_absolute_percentage_error: 100.0000 - mae: 179290848.0000 - mse: 32303546397360128.0000\n",
      "Epoch 11/100\n",
      "1461/1461 [==============================] - 0s 96us/sample - loss: 3036483474176377.0000 - mean_absolute_percentage_error: 100.0000 - mae: 179290848.0000 - mse: 32303550692327424.0000\n",
      "Epoch 12/100\n",
      "1461/1461 [==============================] - 0s 100us/sample - loss: 2617799624965505.0000 - mean_absolute_percentage_error: 100.0000 - mae: 179290832.0000 - mse: 32303552839811072.0000\n",
      "Epoch 13/100\n",
      "1461/1461 [==============================] - 0s 98us/sample - loss: 2295745695912909.0000 - mean_absolute_percentage_error: 100.0000 - mae: 179290816.0000 - mse: 32303550692327424.0000\n",
      "Epoch 14/100\n",
      "1461/1461 [==============================] - 0s 96us/sample - loss: 2046628116201629.0000 - mean_absolute_percentage_error: 100.0000 - mae: 179290848.0000 - mse: 32303552839811072.0000\n",
      "Epoch 15/100\n",
      "1461/1461 [==============================] - 0s 96us/sample - loss: 1837255857746595.5000 - mean_absolute_percentage_error: 100.0000 - mae: 179290864.0000 - mse: 32303552839811072.0000\n",
      "Epoch 16/100\n",
      "1461/1461 [==============================] - 0s 98us/sample - loss: 1676262942769645.5000 - mean_absolute_percentage_error: 100.0000 - mae: 179290848.0000 - mse: 32303546397360128.0000\n",
      "Epoch 17/100\n",
      "1461/1461 [==============================] - 0s 98us/sample - loss: 1531205436174036.0000 - mean_absolute_percentage_error: 100.0000 - mae: 179290816.0000 - mse: 32303552839811072.0000\n",
      "Epoch 18/100\n",
      "1461/1461 [==============================] - 0s 92us/sample - loss: 1417260630871152.7500 - mean_absolute_percentage_error: 100.0000 - mae: 179290848.0000 - mse: 32303550692327424.0000\n",
      "Epoch 19/100\n",
      "1461/1461 [==============================] - 0s 94us/sample - loss: 1313856614101813.5000 - mean_absolute_percentage_error: 100.0000 - mae: 179290848.0000 - mse: 32303544249876480.0000\n",
      "Epoch 20/100\n",
      "1461/1461 [==============================] - 0s 97us/sample - loss: 1222475833349427.7500 - mean_absolute_percentage_error: 100.0000 - mae: 179290832.0000 - mse: 32303550692327424.0000\n",
      "Epoch 21/100\n",
      "1461/1461 [==============================] - 0s 92us/sample - loss: 1138242538058448.5000 - mean_absolute_percentage_error: 100.0000 - mae: 179290832.0000 - mse: 32303552839811072.0000\n",
      "Epoch 22/100\n",
      "1461/1461 [==============================] - 0s 93us/sample - loss: 1071702257790070.3750 - mean_absolute_percentage_error: 100.0000 - mae: 179290816.0000 - mse: 32303557134778368.0000\n",
      "Epoch 23/100\n",
      "1461/1461 [==============================] - 0s 98us/sample - loss: 1009233778677110.8750 - mean_absolute_percentage_error: 100.0000 - mae: 179290864.0000 - mse: 32303552839811072.0000\n",
      "Epoch 24/100\n",
      "1461/1461 [==============================] - 0s 99us/sample - loss: 947369340477658.7500 - mean_absolute_percentage_error: 100.0000 - mae: 179290832.0000 - mse: 32303550692327424.0000\n",
      "Epoch 25/100\n",
      "1461/1461 [==============================] - 0s 97us/sample - loss: 899845121938223.7500 - mean_absolute_percentage_error: 100.0000 - mae: 179290848.0000 - mse: 32303546397360128.0000\n",
      "Epoch 26/100\n",
      "1461/1461 [==============================] - 0s 96us/sample - loss: 855367524513978.5000 - mean_absolute_percentage_error: 100.0000 - mae: 179290832.0000 - mse: 32303544249876480.0000\n",
      "Epoch 27/100\n",
      "1461/1461 [==============================] - 0s 106us/sample - loss: 817038346310773.0000 - mean_absolute_percentage_error: 100.0000 - mae: 179290832.0000 - mse: 32303554987294720.0000\n",
      "Epoch 28/100\n",
      "1461/1461 [==============================] - 0s 98us/sample - loss: 778952556248033.8750 - mean_absolute_percentage_error: 100.0000 - mae: 179290864.0000 - mse: 32303550692327424.0000\n",
      "Epoch 29/100\n",
      "1461/1461 [==============================] - 0s 97us/sample - loss: 738020143816081.6250 - mean_absolute_percentage_error: 100.0000 - mae: 179290864.0000 - mse: 32303550692327424.0000\n",
      "Epoch 30/100\n",
      "1461/1461 [==============================] - 0s 88us/sample - loss: 709711418932003.2500 - mean_absolute_percentage_error: 100.0000 - mae: 179290816.0000 - mse: 32303542102392832.0000\n",
      "Epoch 31/100\n",
      "1461/1461 [==============================] - 0s 91us/sample - loss: 679208088815553.0000 - mean_absolute_percentage_error: 100.0000 - mae: 179290816.0000 - mse: 32303550692327424.0000\n",
      "Epoch 32/100\n",
      "1461/1461 [==============================] - 0s 95us/sample - loss: 650171339828095.7500 - mean_absolute_percentage_error: 100.0000 - mae: 179290832.0000 - mse: 32303550692327424.0000\n",
      "Epoch 33/100\n",
      "1461/1461 [==============================] - 0s 100us/sample - loss: 623263517073368.7500 - mean_absolute_percentage_error: 100.0000 - mae: 179290848.0000 - mse: 32303550692327424.0000\n",
      "Epoch 34/100\n",
      "1461/1461 [==============================] - 0s 103us/sample - loss: 602228204287547.1250 - mean_absolute_percentage_error: 100.0000 - mae: 179290848.0000 - mse: 32303550692327424.0000\n",
      "Epoch 35/100\n",
      "1461/1461 [==============================] - 0s 97us/sample - loss: 580288405949564.0000 - mean_absolute_percentage_error: 100.0000 - mae: 179290832.0000 - mse: 32303552839811072.0000\n",
      "Epoch 36/100\n",
      "1461/1461 [==============================] - 0s 98us/sample - loss: 556855456471063.8125 - mean_absolute_percentage_error: 100.0000 - mae: 179290848.0000 - mse: 32303554987294720.0000\n",
      "Epoch 37/100\n"
     ]
    },
    {
     "name": "stdout",
     "output_type": "stream",
     "text": [
      "1461/1461 [==============================] - 0s 94us/sample - loss: 541060653194383.6875 - mean_absolute_percentage_error: 100.0000 - mae: 179290880.0000 - mse: 32303552839811072.0000\n",
      "Epoch 38/100\n",
      "1461/1461 [==============================] - 0s 88us/sample - loss: 521317652656164.4375 - mean_absolute_percentage_error: 100.0000 - mae: 179290848.0000 - mse: 32303557134778368.0000\n",
      "Epoch 39/100\n",
      "1461/1461 [==============================] - 0s 89us/sample - loss: 498798183843945.1250 - mean_absolute_percentage_error: 100.0000 - mae: 179290832.0000 - mse: 32303546397360128.0000\n",
      "Epoch 40/100\n",
      "1461/1461 [==============================] - 0s 92us/sample - loss: 483364572347126.3750 - mean_absolute_percentage_error: 100.0000 - mae: 179290848.0000 - mse: 32303550692327424.0000\n",
      "Epoch 41/100\n",
      "1461/1461 [==============================] - 0s 92us/sample - loss: 470924876358658.1250 - mean_absolute_percentage_error: 100.0000 - mae: 179290848.0000 - mse: 32303550692327424.0000\n",
      "Epoch 42/100\n",
      "1461/1461 [==============================] - 0s 93us/sample - loss: 451987699721341.4375 - mean_absolute_percentage_error: 100.0000 - mae: 179290848.0000 - mse: 32303546397360128.0000\n",
      "Epoch 43/100\n",
      "1461/1461 [==============================] - 0s 92us/sample - loss: 442062192813058.1250 - mean_absolute_percentage_error: 100.0000 - mae: 179290816.0000 - mse: 32303546397360128.0000\n",
      "Epoch 44/100\n",
      "1461/1461 [==============================] - 0s 89us/sample - loss: 426393033062014.5000 - mean_absolute_percentage_error: 100.0000 - mae: 179290816.0000 - mse: 32303546397360128.0000\n",
      "Epoch 45/100\n",
      "1461/1461 [==============================] - 0s 89us/sample - loss: 412409544624244.3750 - mean_absolute_percentage_error: 100.0000 - mae: 179290864.0000 - mse: 32303552839811072.0000\n",
      "Epoch 46/100\n",
      "1461/1461 [==============================] - 0s 92us/sample - loss: 402951738038183.6875 - mean_absolute_percentage_error: 100.0000 - mae: 179290864.0000 - mse: 32303550692327424.0000\n",
      "Epoch 47/100\n",
      "1461/1461 [==============================] - 0s 91us/sample - loss: 387903855568053.5625 - mean_absolute_percentage_error: 100.0000 - mae: 179290832.0000 - mse: 32303552839811072.0000\n",
      "Epoch 48/100\n",
      "1461/1461 [==============================] - 0s 94us/sample - loss: 376442594093121.8750 - mean_absolute_percentage_error: 100.0000 - mae: 179290816.0000 - mse: 32303554987294720.0000\n",
      "Epoch 49/100\n",
      "1461/1461 [==============================] - 0s 92us/sample - loss: 366824300034918.5000 - mean_absolute_percentage_error: 100.0000 - mae: 179290864.0000 - mse: 32303552839811072.0000\n",
      "Epoch 50/100\n",
      "1461/1461 [==============================] - 0s 93us/sample - loss: 358430060241596.8750 - mean_absolute_percentage_error: 100.0000 - mae: 179290848.0000 - mse: 32303552839811072.0000\n",
      "Epoch 51/100\n",
      "1461/1461 [==============================] - 0s 96us/sample - loss: 348369334025040.0625 - mean_absolute_percentage_error: 100.0000 - mae: 179290848.0000 - mse: 32303550692327424.0000\n",
      "Epoch 52/100\n",
      "1461/1461 [==============================] - 0s 94us/sample - loss: 338526669150949.5625 - mean_absolute_percentage_error: 100.0000 - mae: 179290832.0000 - mse: 32303552839811072.0000\n",
      "Epoch 53/100\n",
      "1461/1461 [==============================] - 0s 95us/sample - loss: 329788782204985.5000 - mean_absolute_percentage_error: 100.0000 - mae: 179290832.0000 - mse: 32303552839811072.0000\n",
      "Epoch 54/100\n",
      "1461/1461 [==============================] - 0s 94us/sample - loss: 319475716141013.9375 - mean_absolute_percentage_error: 100.0000 - mae: 179290832.0000 - mse: 32303550692327424.0000\n",
      "Epoch 55/100\n",
      "1461/1461 [==============================] - 0s 95us/sample - loss: 313760675215243.6250 - mean_absolute_percentage_error: 100.0000 - mae: 179290848.0000 - mse: 32303557134778368.0000\n",
      "Epoch 56/100\n",
      "1461/1461 [==============================] - 0s 94us/sample - loss: 306907573740916.1875 - mean_absolute_percentage_error: 100.0000 - mae: 179290832.0000 - mse: 32303550692327424.0000\n",
      "Epoch 57/100\n",
      "1461/1461 [==============================] - 0s 97us/sample - loss: 298243435026870.7500 - mean_absolute_percentage_error: 100.0000 - mae: 179290832.0000 - mse: 32303550692327424.0000\n",
      "Epoch 58/100\n",
      "1461/1461 [==============================] - 0s 101us/sample - loss: 289247009873241.5000 - mean_absolute_percentage_error: 100.0000 - mae: 179290832.0000 - mse: 32303557134778368.0000\n",
      "Epoch 59/100\n",
      "1461/1461 [==============================] - 0s 96us/sample - loss: 284261235483504.3125 - mean_absolute_percentage_error: 100.0000 - mae: 179290832.0000 - mse: 32303542102392832.0000\n",
      "Epoch 60/100\n",
      "1461/1461 [==============================] - 0s 98us/sample - loss: 277910616818863.9375 - mean_absolute_percentage_error: 100.0000 - mae: 179290848.0000 - mse: 32303550692327424.0000\n",
      "Epoch 61/100\n",
      "1461/1461 [==============================] - 0s 97us/sample - loss: 269889729565442.9688 - mean_absolute_percentage_error: 100.0000 - mae: 179290848.0000 - mse: 32303550692327424.0000\n",
      "Epoch 62/100\n",
      "1461/1461 [==============================] - 0s 95us/sample - loss: 264114508892197.8750 - mean_absolute_percentage_error: 100.0000 - mae: 179290832.0000 - mse: 32303544249876480.0000\n",
      "Epoch 63/100\n",
      "1461/1461 [==============================] - 0s 94us/sample - loss: 256835534199458.2812 - mean_absolute_percentage_error: 100.0000 - mae: 179290832.0000 - mse: 32303550692327424.0000\n",
      "Epoch 64/100\n",
      "1461/1461 [==============================] - 0s 91us/sample - loss: 249280837181019.4375 - mean_absolute_percentage_error: 100.0000 - mae: 179290800.0000 - mse: 32303550692327424.0000\n",
      "Epoch 65/100\n",
      "1461/1461 [==============================] - 0s 94us/sample - loss: 245777127131768.2188 - mean_absolute_percentage_error: 100.0000 - mae: 179290832.0000 - mse: 32303552839811072.0000\n",
      "Epoch 66/100\n",
      "1461/1461 [==============================] - 0s 94us/sample - loss: 239781251859138.5000 - mean_absolute_percentage_error: 100.0000 - mae: 179290816.0000 - mse: 32303544249876480.0000\n",
      "Epoch 67/100\n",
      "1461/1461 [==============================] - 0s 94us/sample - loss: 233686473451283.0938 - mean_absolute_percentage_error: 100.0000 - mae: 179290832.0000 - mse: 32303544249876480.0000\n",
      "Epoch 68/100\n",
      "1461/1461 [==============================] - 0s 95us/sample - loss: 229746215487593.1562 - mean_absolute_percentage_error: 100.0000 - mae: 179290832.0000 - mse: 32303550692327424.0000\n",
      "Epoch 69/100\n",
      "1461/1461 [==============================] - 0s 90us/sample - loss: 225934750802463.8750 - mean_absolute_percentage_error: 100.0000 - mae: 179290832.0000 - mse: 32303550692327424.0000\n",
      "Epoch 70/100\n",
      "1461/1461 [==============================] - 0s 91us/sample - loss: 220401475142024.5000 - mean_absolute_percentage_error: 100.0000 - mae: 179290832.0000 - mse: 32303542102392832.0000\n",
      "Epoch 71/100\n",
      "1461/1461 [==============================] - 0s 91us/sample - loss: 213760073918956.0312 - mean_absolute_percentage_error: 100.0000 - mae: 179290816.0000 - mse: 32303542102392832.0000\n",
      "Epoch 72/100\n",
      "1461/1461 [==============================] - 0s 91us/sample - loss: 208906596960731.1875 - mean_absolute_percentage_error: 100.0000 - mae: 179290816.0000 - mse: 32303550692327424.0000\n",
      "Epoch 73/100\n",
      "1461/1461 [==============================] - 0s 93us/sample - loss: 207387536826407.2812 - mean_absolute_percentage_error: 100.0000 - mae: 179290832.0000 - mse: 32303542102392832.0000\n",
      "Epoch 74/100\n",
      "1461/1461 [==============================] - 0s 93us/sample - loss: 202642998454203.3125 - mean_absolute_percentage_error: 100.0000 - mae: 179290848.0000 - mse: 32303550692327424.0000\n",
      "Epoch 75/100\n",
      "1461/1461 [==============================] - 0s 94us/sample - loss: 197994011666890.3750 - mean_absolute_percentage_error: 100.0000 - mae: 179290832.0000 - mse: 32303546397360128.0000\n",
      "Epoch 76/100\n",
      "1461/1461 [==============================] - 0s 97us/sample - loss: 192610504663426.8750 - mean_absolute_percentage_error: 100.0000 - mae: 179290832.0000 - mse: 32303537807425536.0000\n",
      "Epoch 77/100\n",
      "1461/1461 [==============================] - 0s 90us/sample - loss: 190494344387750.0938 - mean_absolute_percentage_error: 100.0000 - mae: 179290832.0000 - mse: 32303546397360128.0000\n",
      "Epoch 78/100\n"
     ]
    },
    {
     "name": "stdout",
     "output_type": "stream",
     "text": [
      "1461/1461 [==============================] - 0s 92us/sample - loss: 186185720679077.0625 - mean_absolute_percentage_error: 100.0000 - mae: 179290848.0000 - mse: 32303544249876480.0000\n",
      "Epoch 79/100\n",
      "1461/1461 [==============================] - 0s 88us/sample - loss: 182065162935854.5938 - mean_absolute_percentage_error: 100.0000 - mae: 179290848.0000 - mse: 32303544249876480.0000\n",
      "Epoch 80/100\n",
      "1461/1461 [==============================] - 0s 89us/sample - loss: 178438530094869.9062 - mean_absolute_percentage_error: 100.0000 - mae: 179290816.0000 - mse: 32303546397360128.0000\n",
      "Epoch 81/100\n",
      "1461/1461 [==============================] - 0s 102us/sample - loss: 173698776697206.2812 - mean_absolute_percentage_error: 100.0000 - mae: 179290832.0000 - mse: 32303539954909184.0000\n",
      "Epoch 82/100\n",
      "1461/1461 [==============================] - 0s 95us/sample - loss: 170994799489295.9375 - mean_absolute_percentage_error: 100.0000 - mae: 179290848.0000 - mse: 32303546397360128.0000\n",
      "Epoch 83/100\n",
      "1461/1461 [==============================] - 0s 89us/sample - loss: 167901927689160.6250 - mean_absolute_percentage_error: 100.0000 - mae: 179290816.0000 - mse: 32303542102392832.0000\n",
      "Epoch 84/100\n",
      "1461/1461 [==============================] - 0s 89us/sample - loss: 164116907410361.2188 - mean_absolute_percentage_error: 100.0000 - mae: 179290816.0000 - mse: 32303542102392832.0000\n",
      "Epoch 85/100\n",
      "1461/1461 [==============================] - 0s 91us/sample - loss: 161214171845087.4062 - mean_absolute_percentage_error: 100.0000 - mae: 179290800.0000 - mse: 32303550692327424.0000\n",
      "Epoch 86/100\n",
      "1461/1461 [==============================] - 0s 91us/sample - loss: 157542206530102.3125 - mean_absolute_percentage_error: 100.0000 - mae: 179290848.0000 - mse: 32303544249876480.0000\n",
      "Epoch 87/100\n",
      "1461/1461 [==============================] - 0s 88us/sample - loss: 155129448731305.2500 - mean_absolute_percentage_error: 100.0000 - mae: 179290832.0000 - mse: 32303537807425536.0000\n",
      "Epoch 88/100\n",
      "1461/1461 [==============================] - 0s 88us/sample - loss: 152273417421461.6562 - mean_absolute_percentage_error: 100.0000 - mae: 179290832.0000 - mse: 32303542102392832.0000\n",
      "Epoch 89/100\n",
      "1461/1461 [==============================] - 0s 89us/sample - loss: 149228900256432.2812 - mean_absolute_percentage_error: 100.0000 - mae: 179290816.0000 - mse: 32303542102392832.0000\n",
      "Epoch 90/100\n",
      "1461/1461 [==============================] - 0s 91us/sample - loss: 147132872134686.8438 - mean_absolute_percentage_error: 100.0000 - mae: 179290816.0000 - mse: 32303546397360128.0000\n",
      "Epoch 91/100\n",
      "1461/1461 [==============================] - 0s 90us/sample - loss: 144422736700933.9688 - mean_absolute_percentage_error: 100.0000 - mae: 179290848.0000 - mse: 32303550692327424.0000\n",
      "Epoch 92/100\n",
      "1461/1461 [==============================] - 0s 89us/sample - loss: 140933173892661.6250 - mean_absolute_percentage_error: 100.0000 - mae: 179290832.0000 - mse: 32303542102392832.0000\n",
      "Epoch 93/100\n",
      "1461/1461 [==============================] - 0s 95us/sample - loss: 138911346580006.8906 - mean_absolute_percentage_error: 100.0000 - mae: 179290832.0000 - mse: 32303544249876480.0000\n",
      "Epoch 94/100\n",
      "1461/1461 [==============================] - 0s 93us/sample - loss: 135636691818654.4062 - mean_absolute_percentage_error: 100.0000 - mae: 179290832.0000 - mse: 32303546397360128.0000\n",
      "Epoch 95/100\n",
      "1461/1461 [==============================] - 0s 92us/sample - loss: 134772019047912.5156 - mean_absolute_percentage_error: 100.0000 - mae: 179290800.0000 - mse: 32303539954909184.0000\n",
      "Epoch 96/100\n",
      "1461/1461 [==============================] - 0s 90us/sample - loss: 131620285321336.5625 - mean_absolute_percentage_error: 100.0000 - mae: 179290848.0000 - mse: 32303544249876480.0000\n",
      "Epoch 97/100\n",
      "1461/1461 [==============================] - 0s 89us/sample - loss: 128257093568146.1406 - mean_absolute_percentage_error: 100.0000 - mae: 179290832.0000 - mse: 32303546397360128.0000\n",
      "Epoch 98/100\n",
      "1461/1461 [==============================] - 0s 90us/sample - loss: 126433445241959.0312 - mean_absolute_percentage_error: 100.0000 - mae: 179290800.0000 - mse: 32303544249876480.0000\n",
      "Epoch 99/100\n",
      "1461/1461 [==============================] - 0s 91us/sample - loss: 125029655249613.7031 - mean_absolute_percentage_error: 100.0000 - mae: 179290816.0000 - mse: 32303542102392832.0000\n",
      "Epoch 100/100\n",
      "1461/1461 [==============================] - 0s 90us/sample - loss: 122738301100665.6094 - mean_absolute_percentage_error: 100.0000 - mae: 179290832.0000 - mse: 32303546397360128.0000\n"
     ]
    }
   ],
   "source": [
    "ar_model = DeepAR(tds)\n",
    "ar_model.instantiate_and_fit(verbose=1, epochs=100)"
   ]
  },
  {
   "cell_type": "code",
   "execution_count": 12,
   "metadata": {},
   "outputs": [
    {
     "name": "stderr",
     "output_type": "stream",
     "text": [
      "C:\\Users\\Resh\\anaconda3\\lib\\site-packages\\keras\\engine\\training_v1.py:2079: UserWarning: `Model.state_updates` will be removed in a future version. This property should not be used in TensorFlow 2.0, as `updates` are applied automatically.\n",
      "  updates=self.state_updates,\n"
     ]
    },
    {
     "name": "stdout",
     "output_type": "stream",
     "text": [
      "[[1.79619309e+08]\n",
      " [1.76484765e+08]\n",
      " [1.75912081e+08]\n",
      " [1.77531496e+08]\n",
      " [1.78506360e+08]\n",
      " [1.85716094e+08]\n",
      " [1.91783947e+08]\n",
      " [1.76551351e+08]\n",
      " [1.74760369e+08]\n",
      " [1.78544726e+08]]\n",
      "MSE: 37012772774717384.0000\n",
      "----------\n",
      "---dimensions1\n",
      "value: 3.3721295463309144e+16\n"
     ]
    },
    {
     "data": {
      "text/plain": [
       "array([[12.354861],\n",
       "       [13.18437 ],\n",
       "       [13.31151 ],\n",
       "       [13.329026],\n",
       "       [13.331402],\n",
       "       [13.331725],\n",
       "       [13.331768],\n",
       "       [13.331774],\n",
       "       [13.331774],\n",
       "       [13.331774]], dtype=float32)"
      ]
     },
     "execution_count": 12,
     "metadata": {},
     "output_type": "execute_result"
    },
    {
     "data": {
      "image/png": "[encoded data removed]",
      "text/plain": [
       "<Figure size 864x1296 with 1 Axes>"
      ]
     },
     "metadata": {
      "needs_background": "light"
     },
     "output_type": "display_data"
    }
   ],
   "source": [
    " y_predicted = ar_model.model.predict(tds.X_test)\n",
    "print(tds.y_test[0])\n",
    "evaluate_model(tds=tds, y_predicted=y_predicted, columns=data_df.columns, first_n=100)\n",
    "y_predicted[0]"
   ]
  }
 ],
 "metadata": {
  "colab": {
   "name": "DeepAR_from_Scratch.ipynb",
   "provenance": []
  },
  "kernelspec": {
   "display_name": "Python 3 (ipykernel)",
   "language": "python",
   "name": "python3"
  },
  "language_info": {
   "codemirror_mode": {
    "name": "ipython",
    "version": 3
   },
   "file_extension": ".py",
   "mimetype": "text/x-python",
   "name": "python",
   "nbconvert_exporter": "python",
   "pygments_lexer": "ipython3",
   "version": "3.9.7"
  }
 },
 "nbformat": 4,
 "nbformat_minor": 1
}
